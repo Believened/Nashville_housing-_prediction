{
 "cells": [
  {
   "cell_type": "code",
   "execution_count": 1,
   "id": "732fad96",
   "metadata": {},
   "outputs": [
    {
     "data": {
      "text/plain": [
       "'This is an anlysis done on Nashville housing dataset. The aim of this analysis is to predict Sale Price from Finished Area and Land Value, as the finished area can be readily estimated. '"
      ]
     },
     "execution_count": 1,
     "metadata": {},
     "output_type": "execute_result"
    }
   ],
   "source": [
    "\"\"\"This is an anlysis done on Nashville housing dataset. The aim of this analysis is to predict Sale Price from Finished Area and Land Value, as the finished area can be readily estimated. \"\"\""
   ]
  },
  {
   "cell_type": "code",
   "execution_count": 2,
   "id": "792737fd",
   "metadata": {},
   "outputs": [],
   "source": [
    "import pandas as pd\n",
    "import matplotlib.pyplot as plt\n",
    "import numpy as np \n",
    "import seaborn as sns\n",
    "from sklearn.linear_model import LinearRegression\n",
    "from sklearn.model_selection import train_test_split\n",
    "from sklearn.metrics import mean_absolute_error"
   ]
  },
  {
   "cell_type": "code",
   "execution_count": 3,
   "id": "cbc823d6",
   "metadata": {},
   "outputs": [],
   "source": [
    "#Reading dataset into a dataframe with pandas\n",
    "data = pd.read_csv(\"C:/Users/HP/Downloads/archive (3)/Nashville_housing_data_2013_2016.csv\")"
   ]
  },
  {
   "cell_type": "code",
   "execution_count": 4,
   "id": "92f846e3",
   "metadata": {},
   "outputs": [
    {
     "data": {
      "text/html": [
       "<div>\n",
       "<style scoped>\n",
       "    .dataframe tbody tr th:only-of-type {\n",
       "        vertical-align: middle;\n",
       "    }\n",
       "\n",
       "    .dataframe tbody tr th {\n",
       "        vertical-align: top;\n",
       "    }\n",
       "\n",
       "    .dataframe thead th {\n",
       "        text-align: right;\n",
       "    }\n",
       "</style>\n",
       "<table border=\"1\" class=\"dataframe\">\n",
       "  <thead>\n",
       "    <tr style=\"text-align: right;\">\n",
       "      <th></th>\n",
       "      <th>Unnamed: 0.1</th>\n",
       "      <th>Unnamed: 0</th>\n",
       "      <th>Parcel ID</th>\n",
       "      <th>Land Use</th>\n",
       "      <th>Property Address</th>\n",
       "      <th>Suite/ Condo   #</th>\n",
       "      <th>Property City</th>\n",
       "      <th>Sale Date</th>\n",
       "      <th>Sale Price</th>\n",
       "      <th>Legal Reference</th>\n",
       "      <th>...</th>\n",
       "      <th>Building Value</th>\n",
       "      <th>Total Value</th>\n",
       "      <th>Finished Area</th>\n",
       "      <th>Foundation Type</th>\n",
       "      <th>Year Built</th>\n",
       "      <th>Exterior Wall</th>\n",
       "      <th>Grade</th>\n",
       "      <th>Bedrooms</th>\n",
       "      <th>Full Bath</th>\n",
       "      <th>Half Bath</th>\n",
       "    </tr>\n",
       "  </thead>\n",
       "  <tbody>\n",
       "    <tr>\n",
       "      <th>0</th>\n",
       "      <td>0</td>\n",
       "      <td>0</td>\n",
       "      <td>105 03 0D 008.00</td>\n",
       "      <td>RESIDENTIAL CONDO</td>\n",
       "      <td>1208  3RD AVE S</td>\n",
       "      <td>8</td>\n",
       "      <td>NASHVILLE</td>\n",
       "      <td>2013-01-24</td>\n",
       "      <td>132000</td>\n",
       "      <td>20130128-0008725</td>\n",
       "      <td>...</td>\n",
       "      <td>NaN</td>\n",
       "      <td>NaN</td>\n",
       "      <td>NaN</td>\n",
       "      <td>NaN</td>\n",
       "      <td>NaN</td>\n",
       "      <td>NaN</td>\n",
       "      <td>NaN</td>\n",
       "      <td>NaN</td>\n",
       "      <td>NaN</td>\n",
       "      <td>NaN</td>\n",
       "    </tr>\n",
       "    <tr>\n",
       "      <th>1</th>\n",
       "      <td>1</td>\n",
       "      <td>1</td>\n",
       "      <td>105 11 0 080.00</td>\n",
       "      <td>SINGLE FAMILY</td>\n",
       "      <td>1802  STEWART PL</td>\n",
       "      <td>NaN</td>\n",
       "      <td>NASHVILLE</td>\n",
       "      <td>2013-01-11</td>\n",
       "      <td>191500</td>\n",
       "      <td>20130118-0006337</td>\n",
       "      <td>...</td>\n",
       "      <td>134400.0</td>\n",
       "      <td>168300.0</td>\n",
       "      <td>1149.00000</td>\n",
       "      <td>PT BSMT</td>\n",
       "      <td>1941.0</td>\n",
       "      <td>BRICK</td>\n",
       "      <td>C</td>\n",
       "      <td>2.0</td>\n",
       "      <td>1.0</td>\n",
       "      <td>0.0</td>\n",
       "    </tr>\n",
       "    <tr>\n",
       "      <th>2</th>\n",
       "      <td>2</td>\n",
       "      <td>2</td>\n",
       "      <td>118 03 0 130.00</td>\n",
       "      <td>SINGLE FAMILY</td>\n",
       "      <td>2761  ROSEDALE PL</td>\n",
       "      <td>NaN</td>\n",
       "      <td>NASHVILLE</td>\n",
       "      <td>2013-01-18</td>\n",
       "      <td>202000</td>\n",
       "      <td>20130124-0008033</td>\n",
       "      <td>...</td>\n",
       "      <td>157800.0</td>\n",
       "      <td>191800.0</td>\n",
       "      <td>2090.82495</td>\n",
       "      <td>SLAB</td>\n",
       "      <td>2000.0</td>\n",
       "      <td>BRICK/FRAME</td>\n",
       "      <td>C</td>\n",
       "      <td>3.0</td>\n",
       "      <td>2.0</td>\n",
       "      <td>1.0</td>\n",
       "    </tr>\n",
       "    <tr>\n",
       "      <th>3</th>\n",
       "      <td>3</td>\n",
       "      <td>3</td>\n",
       "      <td>119 01 0 479.00</td>\n",
       "      <td>SINGLE FAMILY</td>\n",
       "      <td>224  PEACHTREE ST</td>\n",
       "      <td>NaN</td>\n",
       "      <td>NASHVILLE</td>\n",
       "      <td>2013-01-18</td>\n",
       "      <td>32000</td>\n",
       "      <td>20130128-0008863</td>\n",
       "      <td>...</td>\n",
       "      <td>243700.0</td>\n",
       "      <td>268700.0</td>\n",
       "      <td>2145.60001</td>\n",
       "      <td>FULL BSMT</td>\n",
       "      <td>1948.0</td>\n",
       "      <td>BRICK/FRAME</td>\n",
       "      <td>B</td>\n",
       "      <td>4.0</td>\n",
       "      <td>2.0</td>\n",
       "      <td>0.0</td>\n",
       "    </tr>\n",
       "    <tr>\n",
       "      <th>4</th>\n",
       "      <td>4</td>\n",
       "      <td>4</td>\n",
       "      <td>119 05 0 186.00</td>\n",
       "      <td>SINGLE FAMILY</td>\n",
       "      <td>316  LUTIE ST</td>\n",
       "      <td>NaN</td>\n",
       "      <td>NASHVILLE</td>\n",
       "      <td>2013-01-23</td>\n",
       "      <td>102000</td>\n",
       "      <td>20130131-0009929</td>\n",
       "      <td>...</td>\n",
       "      <td>138100.0</td>\n",
       "      <td>164800.0</td>\n",
       "      <td>1969.00000</td>\n",
       "      <td>CRAWL</td>\n",
       "      <td>1910.0</td>\n",
       "      <td>FRAME</td>\n",
       "      <td>C</td>\n",
       "      <td>2.0</td>\n",
       "      <td>1.0</td>\n",
       "      <td>0.0</td>\n",
       "    </tr>\n",
       "  </tbody>\n",
       "</table>\n",
       "<p>5 rows × 31 columns</p>\n",
       "</div>"
      ],
      "text/plain": [
       "   Unnamed: 0.1  Unnamed: 0         Parcel ID           Land Use  \\\n",
       "0             0           0  105 03 0D 008.00  RESIDENTIAL CONDO   \n",
       "1             1           1   105 11 0 080.00      SINGLE FAMILY   \n",
       "2             2           2   118 03 0 130.00      SINGLE FAMILY   \n",
       "3             3           3   119 01 0 479.00      SINGLE FAMILY   \n",
       "4             4           4   119 05 0 186.00      SINGLE FAMILY   \n",
       "\n",
       "    Property Address Suite/ Condo   # Property City   Sale Date  Sale Price  \\\n",
       "0    1208  3RD AVE S                8     NASHVILLE  2013-01-24      132000   \n",
       "1   1802  STEWART PL              NaN     NASHVILLE  2013-01-11      191500   \n",
       "2  2761  ROSEDALE PL              NaN     NASHVILLE  2013-01-18      202000   \n",
       "3  224  PEACHTREE ST              NaN     NASHVILLE  2013-01-18       32000   \n",
       "4      316  LUTIE ST              NaN     NASHVILLE  2013-01-23      102000   \n",
       "\n",
       "    Legal Reference  ... Building Value Total Value Finished Area  \\\n",
       "0  20130128-0008725  ...            NaN         NaN           NaN   \n",
       "1  20130118-0006337  ...       134400.0    168300.0    1149.00000   \n",
       "2  20130124-0008033  ...       157800.0    191800.0    2090.82495   \n",
       "3  20130128-0008863  ...       243700.0    268700.0    2145.60001   \n",
       "4  20130131-0009929  ...       138100.0    164800.0    1969.00000   \n",
       "\n",
       "  Foundation Type Year Built Exterior Wall  Grade Bedrooms  Full Bath  \\\n",
       "0             NaN        NaN           NaN    NaN      NaN        NaN   \n",
       "1         PT BSMT     1941.0         BRICK   C         2.0        1.0   \n",
       "2            SLAB     2000.0   BRICK/FRAME   C         3.0        2.0   \n",
       "3       FULL BSMT     1948.0   BRICK/FRAME   B         4.0        2.0   \n",
       "4           CRAWL     1910.0         FRAME   C         2.0        1.0   \n",
       "\n",
       "  Half Bath  \n",
       "0       NaN  \n",
       "1       0.0  \n",
       "2       1.0  \n",
       "3       0.0  \n",
       "4       0.0  \n",
       "\n",
       "[5 rows x 31 columns]"
      ]
     },
     "execution_count": 4,
     "metadata": {},
     "output_type": "execute_result"
    }
   ],
   "source": [
    "data.head()"
   ]
  },
  {
   "cell_type": "code",
   "execution_count": 5,
   "id": "68f82ee8",
   "metadata": {},
   "outputs": [
    {
     "name": "stdout",
     "output_type": "stream",
     "text": [
      "<class 'pandas.core.frame.DataFrame'>\n",
      "RangeIndex: 56636 entries, 0 to 56635\n",
      "Data columns (total 31 columns):\n",
      " #   Column                             Non-Null Count  Dtype  \n",
      "---  ------                             --------------  -----  \n",
      " 0   Unnamed: 0.1                       56636 non-null  int64  \n",
      " 1   Unnamed: 0                         56636 non-null  int64  \n",
      " 2   Parcel ID                          56636 non-null  object \n",
      " 3   Land Use                           56636 non-null  object \n",
      " 4   Property Address                   56477 non-null  object \n",
      " 5   Suite/ Condo   #                   6109 non-null   object \n",
      " 6   Property City                      56477 non-null  object \n",
      " 7   Sale Date                          56636 non-null  object \n",
      " 8   Sale Price                         56636 non-null  int64  \n",
      " 9   Legal Reference                    56636 non-null  object \n",
      " 10  Sold As Vacant                     56636 non-null  object \n",
      " 11  Multiple Parcels Involved in Sale  56636 non-null  object \n",
      " 12  Owner Name                         25261 non-null  object \n",
      " 13  Address                            26017 non-null  object \n",
      " 14  City                               26017 non-null  object \n",
      " 15  State                              26017 non-null  object \n",
      " 16  Acreage                            26017 non-null  float64\n",
      " 17  Tax District                       26017 non-null  object \n",
      " 18  Neighborhood                       26017 non-null  float64\n",
      " 19  image                              25335 non-null  object \n",
      " 20  Land Value                         26017 non-null  float64\n",
      " 21  Building Value                     26017 non-null  float64\n",
      " 22  Total Value                        26017 non-null  float64\n",
      " 23  Finished Area                      24166 non-null  float64\n",
      " 24  Foundation Type                    24164 non-null  object \n",
      " 25  Year Built                         24165 non-null  float64\n",
      " 26  Exterior Wall                      24165 non-null  object \n",
      " 27  Grade                              24165 non-null  object \n",
      " 28  Bedrooms                           24159 non-null  float64\n",
      " 29  Full Bath                          24277 non-null  float64\n",
      " 30  Half Bath                          24146 non-null  float64\n",
      "dtypes: float64(10), int64(3), object(18)\n",
      "memory usage: 13.4+ MB\n"
     ]
    }
   ],
   "source": [
    "data.info()"
   ]
  },
  {
   "cell_type": "code",
   "execution_count": 6,
   "id": "1e6708d2",
   "metadata": {},
   "outputs": [
    {
     "name": "stdout",
     "output_type": "stream",
     "text": [
      "Unnamed: 0.1                           int64\n",
      "Unnamed: 0                             int64\n",
      "Parcel ID                             object\n",
      "Land Use                              object\n",
      "Property Address                      object\n",
      "Suite/ Condo   #                      object\n",
      "Property City                         object\n",
      "Sale Date                             object\n",
      "Sale Price                             int64\n",
      "Legal Reference                       object\n",
      "Sold As Vacant                        object\n",
      "Multiple Parcels Involved in Sale     object\n",
      "Owner Name                            object\n",
      "Address                               object\n",
      "City                                  object\n",
      "State                                 object\n",
      "Acreage                              float64\n",
      "Tax District                          object\n",
      "Neighborhood                         float64\n",
      "image                                 object\n",
      "Land Value                           float64\n",
      "Building Value                       float64\n",
      "Total Value                          float64\n",
      "Finished Area                        float64\n",
      "Foundation Type                       object\n",
      "Year Built                           float64\n",
      "Exterior Wall                         object\n",
      "Grade                                 object\n",
      "Bedrooms                             float64\n",
      "Full Bath                            float64\n",
      "Half Bath                            float64\n",
      "dtype: object\n"
     ]
    }
   ],
   "source": [
    "print(data.dtypes)"
   ]
  },
  {
   "cell_type": "code",
   "execution_count": 7,
   "id": "ad665798",
   "metadata": {},
   "outputs": [],
   "source": [
    "#dropping irrelevant columns with consistent values\n",
    "data.drop(columns=[\"Unnamed: 0.1\", \"Unnamed: 0\", \"Suite/ Condo   #\", \"Legal Reference\", \"Owner Name\", \"Property City\", \"Sold As Vacant\", \"Land Use\", \"Sale Date\", \"Multiple Parcels Involved in Sale\", \"City\", \"image\", \"Tax District\", \"State\", \"Property Address\"], inplace = True)"
   ]
  },
  {
   "cell_type": "code",
   "execution_count": 8,
   "id": "fd10517b",
   "metadata": {},
   "outputs": [
    {
     "data": {
      "text/html": [
       "<div>\n",
       "<style scoped>\n",
       "    .dataframe tbody tr th:only-of-type {\n",
       "        vertical-align: middle;\n",
       "    }\n",
       "\n",
       "    .dataframe tbody tr th {\n",
       "        vertical-align: top;\n",
       "    }\n",
       "\n",
       "    .dataframe thead th {\n",
       "        text-align: right;\n",
       "    }\n",
       "</style>\n",
       "<table border=\"1\" class=\"dataframe\">\n",
       "  <thead>\n",
       "    <tr style=\"text-align: right;\">\n",
       "      <th></th>\n",
       "      <th>Parcel ID</th>\n",
       "      <th>Sale Price</th>\n",
       "      <th>Address</th>\n",
       "      <th>Acreage</th>\n",
       "      <th>Neighborhood</th>\n",
       "      <th>Land Value</th>\n",
       "      <th>Building Value</th>\n",
       "      <th>Total Value</th>\n",
       "      <th>Finished Area</th>\n",
       "      <th>Foundation Type</th>\n",
       "      <th>Year Built</th>\n",
       "      <th>Exterior Wall</th>\n",
       "      <th>Grade</th>\n",
       "      <th>Bedrooms</th>\n",
       "      <th>Full Bath</th>\n",
       "      <th>Half Bath</th>\n",
       "    </tr>\n",
       "  </thead>\n",
       "  <tbody>\n",
       "    <tr>\n",
       "      <th>0</th>\n",
       "      <td>105 03 0D 008.00</td>\n",
       "      <td>132000</td>\n",
       "      <td>NaN</td>\n",
       "      <td>NaN</td>\n",
       "      <td>NaN</td>\n",
       "      <td>NaN</td>\n",
       "      <td>NaN</td>\n",
       "      <td>NaN</td>\n",
       "      <td>NaN</td>\n",
       "      <td>NaN</td>\n",
       "      <td>NaN</td>\n",
       "      <td>NaN</td>\n",
       "      <td>NaN</td>\n",
       "      <td>NaN</td>\n",
       "      <td>NaN</td>\n",
       "      <td>NaN</td>\n",
       "    </tr>\n",
       "    <tr>\n",
       "      <th>1</th>\n",
       "      <td>105 11 0 080.00</td>\n",
       "      <td>191500</td>\n",
       "      <td>1802  STEWART PL</td>\n",
       "      <td>0.17</td>\n",
       "      <td>3127.0</td>\n",
       "      <td>32000.0</td>\n",
       "      <td>134400.0</td>\n",
       "      <td>168300.0</td>\n",
       "      <td>1149.00000</td>\n",
       "      <td>PT BSMT</td>\n",
       "      <td>1941.0</td>\n",
       "      <td>BRICK</td>\n",
       "      <td>C</td>\n",
       "      <td>2.0</td>\n",
       "      <td>1.0</td>\n",
       "      <td>0.0</td>\n",
       "    </tr>\n",
       "    <tr>\n",
       "      <th>2</th>\n",
       "      <td>118 03 0 130.00</td>\n",
       "      <td>202000</td>\n",
       "      <td>2761  ROSEDALE PL</td>\n",
       "      <td>0.11</td>\n",
       "      <td>9126.0</td>\n",
       "      <td>34000.0</td>\n",
       "      <td>157800.0</td>\n",
       "      <td>191800.0</td>\n",
       "      <td>2090.82495</td>\n",
       "      <td>SLAB</td>\n",
       "      <td>2000.0</td>\n",
       "      <td>BRICK/FRAME</td>\n",
       "      <td>C</td>\n",
       "      <td>3.0</td>\n",
       "      <td>2.0</td>\n",
       "      <td>1.0</td>\n",
       "    </tr>\n",
       "    <tr>\n",
       "      <th>3</th>\n",
       "      <td>119 01 0 479.00</td>\n",
       "      <td>32000</td>\n",
       "      <td>224  PEACHTREE ST</td>\n",
       "      <td>0.17</td>\n",
       "      <td>3130.0</td>\n",
       "      <td>25000.0</td>\n",
       "      <td>243700.0</td>\n",
       "      <td>268700.0</td>\n",
       "      <td>2145.60001</td>\n",
       "      <td>FULL BSMT</td>\n",
       "      <td>1948.0</td>\n",
       "      <td>BRICK/FRAME</td>\n",
       "      <td>B</td>\n",
       "      <td>4.0</td>\n",
       "      <td>2.0</td>\n",
       "      <td>0.0</td>\n",
       "    </tr>\n",
       "    <tr>\n",
       "      <th>4</th>\n",
       "      <td>119 05 0 186.00</td>\n",
       "      <td>102000</td>\n",
       "      <td>316  LUTIE ST</td>\n",
       "      <td>0.34</td>\n",
       "      <td>3130.0</td>\n",
       "      <td>25000.0</td>\n",
       "      <td>138100.0</td>\n",
       "      <td>164800.0</td>\n",
       "      <td>1969.00000</td>\n",
       "      <td>CRAWL</td>\n",
       "      <td>1910.0</td>\n",
       "      <td>FRAME</td>\n",
       "      <td>C</td>\n",
       "      <td>2.0</td>\n",
       "      <td>1.0</td>\n",
       "      <td>0.0</td>\n",
       "    </tr>\n",
       "  </tbody>\n",
       "</table>\n",
       "</div>"
      ],
      "text/plain": [
       "          Parcel ID  Sale Price            Address  Acreage  Neighborhood  \\\n",
       "0  105 03 0D 008.00      132000                NaN      NaN           NaN   \n",
       "1   105 11 0 080.00      191500   1802  STEWART PL     0.17        3127.0   \n",
       "2   118 03 0 130.00      202000  2761  ROSEDALE PL     0.11        9126.0   \n",
       "3   119 01 0 479.00       32000  224  PEACHTREE ST     0.17        3130.0   \n",
       "4   119 05 0 186.00      102000      316  LUTIE ST     0.34        3130.0   \n",
       "\n",
       "   Land Value  Building Value  Total Value  Finished Area Foundation Type  \\\n",
       "0         NaN             NaN          NaN            NaN             NaN   \n",
       "1     32000.0        134400.0     168300.0     1149.00000         PT BSMT   \n",
       "2     34000.0        157800.0     191800.0     2090.82495            SLAB   \n",
       "3     25000.0        243700.0     268700.0     2145.60001       FULL BSMT   \n",
       "4     25000.0        138100.0     164800.0     1969.00000           CRAWL   \n",
       "\n",
       "   Year Built Exterior Wall Grade  Bedrooms  Full Bath  Half Bath  \n",
       "0         NaN           NaN   NaN       NaN        NaN        NaN  \n",
       "1      1941.0         BRICK  C          2.0        1.0        0.0  \n",
       "2      2000.0   BRICK/FRAME  C          3.0        2.0        1.0  \n",
       "3      1948.0   BRICK/FRAME  B          4.0        2.0        0.0  \n",
       "4      1910.0         FRAME  C          2.0        1.0        0.0  "
      ]
     },
     "execution_count": 8,
     "metadata": {},
     "output_type": "execute_result"
    }
   ],
   "source": [
    "data.head()"
   ]
  },
  {
   "cell_type": "code",
   "execution_count": 9,
   "id": "b95134b5",
   "metadata": {},
   "outputs": [],
   "source": [
    "#dropping nan values, so we have a consistent columns of Sale Price, land value and Finished Area.\n",
    "data.dropna(inplace=True)"
   ]
  },
  {
   "cell_type": "code",
   "execution_count": 10,
   "id": "3dc3b8ed",
   "metadata": {},
   "outputs": [
    {
     "data": {
      "text/html": [
       "<div>\n",
       "<style scoped>\n",
       "    .dataframe tbody tr th:only-of-type {\n",
       "        vertical-align: middle;\n",
       "    }\n",
       "\n",
       "    .dataframe tbody tr th {\n",
       "        vertical-align: top;\n",
       "    }\n",
       "\n",
       "    .dataframe thead th {\n",
       "        text-align: right;\n",
       "    }\n",
       "</style>\n",
       "<table border=\"1\" class=\"dataframe\">\n",
       "  <thead>\n",
       "    <tr style=\"text-align: right;\">\n",
       "      <th></th>\n",
       "      <th>Parcel ID</th>\n",
       "      <th>Sale Price</th>\n",
       "      <th>Address</th>\n",
       "      <th>Acreage</th>\n",
       "      <th>Neighborhood</th>\n",
       "      <th>Land Value</th>\n",
       "      <th>Building Value</th>\n",
       "      <th>Total Value</th>\n",
       "      <th>Finished Area</th>\n",
       "      <th>Foundation Type</th>\n",
       "      <th>Year Built</th>\n",
       "      <th>Exterior Wall</th>\n",
       "      <th>Grade</th>\n",
       "      <th>Bedrooms</th>\n",
       "      <th>Full Bath</th>\n",
       "      <th>Half Bath</th>\n",
       "    </tr>\n",
       "  </thead>\n",
       "  <tbody>\n",
       "    <tr>\n",
       "      <th>1</th>\n",
       "      <td>105 11 0 080.00</td>\n",
       "      <td>191500</td>\n",
       "      <td>1802  STEWART PL</td>\n",
       "      <td>0.17</td>\n",
       "      <td>3127.0</td>\n",
       "      <td>32000.0</td>\n",
       "      <td>134400.0</td>\n",
       "      <td>168300.0</td>\n",
       "      <td>1149.00000</td>\n",
       "      <td>PT BSMT</td>\n",
       "      <td>1941.0</td>\n",
       "      <td>BRICK</td>\n",
       "      <td>C</td>\n",
       "      <td>2.0</td>\n",
       "      <td>1.0</td>\n",
       "      <td>0.0</td>\n",
       "    </tr>\n",
       "    <tr>\n",
       "      <th>2</th>\n",
       "      <td>118 03 0 130.00</td>\n",
       "      <td>202000</td>\n",
       "      <td>2761  ROSEDALE PL</td>\n",
       "      <td>0.11</td>\n",
       "      <td>9126.0</td>\n",
       "      <td>34000.0</td>\n",
       "      <td>157800.0</td>\n",
       "      <td>191800.0</td>\n",
       "      <td>2090.82495</td>\n",
       "      <td>SLAB</td>\n",
       "      <td>2000.0</td>\n",
       "      <td>BRICK/FRAME</td>\n",
       "      <td>C</td>\n",
       "      <td>3.0</td>\n",
       "      <td>2.0</td>\n",
       "      <td>1.0</td>\n",
       "    </tr>\n",
       "    <tr>\n",
       "      <th>3</th>\n",
       "      <td>119 01 0 479.00</td>\n",
       "      <td>32000</td>\n",
       "      <td>224  PEACHTREE ST</td>\n",
       "      <td>0.17</td>\n",
       "      <td>3130.0</td>\n",
       "      <td>25000.0</td>\n",
       "      <td>243700.0</td>\n",
       "      <td>268700.0</td>\n",
       "      <td>2145.60001</td>\n",
       "      <td>FULL BSMT</td>\n",
       "      <td>1948.0</td>\n",
       "      <td>BRICK/FRAME</td>\n",
       "      <td>B</td>\n",
       "      <td>4.0</td>\n",
       "      <td>2.0</td>\n",
       "      <td>0.0</td>\n",
       "    </tr>\n",
       "    <tr>\n",
       "      <th>4</th>\n",
       "      <td>119 05 0 186.00</td>\n",
       "      <td>102000</td>\n",
       "      <td>316  LUTIE ST</td>\n",
       "      <td>0.34</td>\n",
       "      <td>3130.0</td>\n",
       "      <td>25000.0</td>\n",
       "      <td>138100.0</td>\n",
       "      <td>164800.0</td>\n",
       "      <td>1969.00000</td>\n",
       "      <td>CRAWL</td>\n",
       "      <td>1910.0</td>\n",
       "      <td>FRAME</td>\n",
       "      <td>C</td>\n",
       "      <td>2.0</td>\n",
       "      <td>1.0</td>\n",
       "      <td>0.0</td>\n",
       "    </tr>\n",
       "    <tr>\n",
       "      <th>5</th>\n",
       "      <td>119 05 0 387.00</td>\n",
       "      <td>93736</td>\n",
       "      <td>2626  FOSTER AVE</td>\n",
       "      <td>0.17</td>\n",
       "      <td>3130.0</td>\n",
       "      <td>25000.0</td>\n",
       "      <td>86100.0</td>\n",
       "      <td>113300.0</td>\n",
       "      <td>1037.00000</td>\n",
       "      <td>CRAWL</td>\n",
       "      <td>1945.0</td>\n",
       "      <td>FRAME</td>\n",
       "      <td>C</td>\n",
       "      <td>2.0</td>\n",
       "      <td>1.0</td>\n",
       "      <td>0.0</td>\n",
       "    </tr>\n",
       "  </tbody>\n",
       "</table>\n",
       "</div>"
      ],
      "text/plain": [
       "         Parcel ID  Sale Price            Address  Acreage  Neighborhood  \\\n",
       "1  105 11 0 080.00      191500   1802  STEWART PL     0.17        3127.0   \n",
       "2  118 03 0 130.00      202000  2761  ROSEDALE PL     0.11        9126.0   \n",
       "3  119 01 0 479.00       32000  224  PEACHTREE ST     0.17        3130.0   \n",
       "4  119 05 0 186.00      102000      316  LUTIE ST     0.34        3130.0   \n",
       "5  119 05 0 387.00       93736   2626  FOSTER AVE     0.17        3130.0   \n",
       "\n",
       "   Land Value  Building Value  Total Value  Finished Area Foundation Type  \\\n",
       "1     32000.0        134400.0     168300.0     1149.00000         PT BSMT   \n",
       "2     34000.0        157800.0     191800.0     2090.82495            SLAB   \n",
       "3     25000.0        243700.0     268700.0     2145.60001       FULL BSMT   \n",
       "4     25000.0        138100.0     164800.0     1969.00000           CRAWL   \n",
       "5     25000.0         86100.0     113300.0     1037.00000           CRAWL   \n",
       "\n",
       "   Year Built Exterior Wall Grade  Bedrooms  Full Bath  Half Bath  \n",
       "1      1941.0         BRICK  C          2.0        1.0        0.0  \n",
       "2      2000.0   BRICK/FRAME  C          3.0        2.0        1.0  \n",
       "3      1948.0   BRICK/FRAME  B          4.0        2.0        0.0  \n",
       "4      1910.0         FRAME  C          2.0        1.0        0.0  \n",
       "5      1945.0         FRAME  C          2.0        1.0        0.0  "
      ]
     },
     "execution_count": 10,
     "metadata": {},
     "output_type": "execute_result"
    }
   ],
   "source": [
    "data.head()"
   ]
  },
  {
   "cell_type": "code",
   "execution_count": 11,
   "id": "af0adc6e",
   "metadata": {},
   "outputs": [
    {
     "name": "stdout",
     "output_type": "stream",
     "text": [
      "                Sale Price   Acreage  Neighborhood  Land Value  \\\n",
      "Sale Price        1.000000  0.286116      0.082440    0.744117   \n",
      "Acreage           0.286116  1.000000      0.251745    0.324826   \n",
      "Neighborhood      0.082440  0.251745      1.000000    0.187610   \n",
      "Land Value        0.744117  0.324826      0.187610    1.000000   \n",
      "Building Value    0.729016  0.223146      0.075628    0.616002   \n",
      "Total Value       0.809676  0.287930      0.125894    0.823396   \n",
      "Finished Area     0.704086  0.335279      0.171491    0.653172   \n",
      "Year Built        0.037947  0.019088      0.129910   -0.015274   \n",
      "Bedrooms          0.374458  0.155116      0.089605    0.347011   \n",
      "Full Bath         0.550577  0.220607      0.132402    0.541830   \n",
      "Half Bath         0.252372  0.054549      0.007775    0.187898   \n",
      "\n",
      "                Building Value  Total Value  Finished Area  Year Built  \\\n",
      "Sale Price            0.729016     0.809676       0.704086    0.037947   \n",
      "Acreage               0.223146     0.287930       0.335279    0.019088   \n",
      "Neighborhood          0.075628     0.125894       0.171491    0.129910   \n",
      "Land Value            0.616002     0.823396       0.653172   -0.015274   \n",
      "Building Value        1.000000     0.953719       0.838047    0.210378   \n",
      "Total Value           0.953719     1.000000       0.851958    0.143958   \n",
      "Finished Area         0.838047     0.851958       1.000000    0.209976   \n",
      "Year Built            0.210378     0.143958       0.209976    1.000000   \n",
      "Bedrooms              0.447446     0.453784       0.582933    0.165606   \n",
      "Full Bath             0.646554     0.671160       0.752574    0.293511   \n",
      "Half Bath             0.378979     0.343446       0.351903    0.263927   \n",
      "\n",
      "                Bedrooms  Full Bath  Half Bath  \n",
      "Sale Price      0.374458   0.550577   0.252372  \n",
      "Acreage         0.155116   0.220607   0.054549  \n",
      "Neighborhood    0.089605   0.132402   0.007775  \n",
      "Land Value      0.347011   0.541830   0.187898  \n",
      "Building Value  0.447446   0.646554   0.378979  \n",
      "Total Value     0.453784   0.671160   0.343446  \n",
      "Finished Area   0.582933   0.752574   0.351903  \n",
      "Year Built      0.165606   0.293511   0.263927  \n",
      "Bedrooms        1.000000   0.612841   0.193671  \n",
      "Full Bath       0.612841   1.000000   0.088872  \n",
      "Half Bath       0.193671   0.088872   1.000000  \n"
     ]
    }
   ],
   "source": [
    "#checking for correlation with sales prices\n",
    "corr = data.corr()\n",
    "print(corr)"
   ]
  },
  {
   "cell_type": "code",
   "execution_count": 12,
   "id": "c452baca",
   "metadata": {},
   "outputs": [
    {
     "data": {
      "image/png": "[encoded data removed]",
      "text/plain": [
       "<Figure size 432x288 with 2 Axes>"
      ]
     },
     "metadata": {
      "needs_background": "light"
     },
     "output_type": "display_data"
    }
   ],
   "source": [
    "#Visualizing correlation again after dropping columns that least correlate with Sale Price\n",
    "sns.heatmap(corr);"
   ]
  },
  {
   "cell_type": "code",
   "execution_count": 13,
   "id": "8752aa24",
   "metadata": {},
   "outputs": [],
   "source": [
    "#dropping columns that least corrrelate with Sale Price\n",
    "data.drop(columns=[\"Acreage\", \"Neighborhood\", \"Year Built\", \"Half Bath\",\"Bedrooms\", \"Address\"], inplace=True)"
   ]
  },
  {
   "cell_type": "code",
   "execution_count": 14,
   "id": "40200238",
   "metadata": {},
   "outputs": [
    {
     "data": {
      "text/html": [
       "<div>\n",
       "<style scoped>\n",
       "    .dataframe tbody tr th:only-of-type {\n",
       "        vertical-align: middle;\n",
       "    }\n",
       "\n",
       "    .dataframe tbody tr th {\n",
       "        vertical-align: top;\n",
       "    }\n",
       "\n",
       "    .dataframe thead th {\n",
       "        text-align: right;\n",
       "    }\n",
       "</style>\n",
       "<table border=\"1\" class=\"dataframe\">\n",
       "  <thead>\n",
       "    <tr style=\"text-align: right;\">\n",
       "      <th></th>\n",
       "      <th>Parcel ID</th>\n",
       "      <th>Sale Price</th>\n",
       "      <th>Land Value</th>\n",
       "      <th>Building Value</th>\n",
       "      <th>Total Value</th>\n",
       "      <th>Finished Area</th>\n",
       "      <th>Foundation Type</th>\n",
       "      <th>Exterior Wall</th>\n",
       "      <th>Grade</th>\n",
       "      <th>Full Bath</th>\n",
       "    </tr>\n",
       "  </thead>\n",
       "  <tbody>\n",
       "    <tr>\n",
       "      <th>1</th>\n",
       "      <td>105 11 0 080.00</td>\n",
       "      <td>191500</td>\n",
       "      <td>32000.0</td>\n",
       "      <td>134400.0</td>\n",
       "      <td>168300.0</td>\n",
       "      <td>1149.00000</td>\n",
       "      <td>PT BSMT</td>\n",
       "      <td>BRICK</td>\n",
       "      <td>C</td>\n",
       "      <td>1.0</td>\n",
       "    </tr>\n",
       "    <tr>\n",
       "      <th>2</th>\n",
       "      <td>118 03 0 130.00</td>\n",
       "      <td>202000</td>\n",
       "      <td>34000.0</td>\n",
       "      <td>157800.0</td>\n",
       "      <td>191800.0</td>\n",
       "      <td>2090.82495</td>\n",
       "      <td>SLAB</td>\n",
       "      <td>BRICK/FRAME</td>\n",
       "      <td>C</td>\n",
       "      <td>2.0</td>\n",
       "    </tr>\n",
       "    <tr>\n",
       "      <th>3</th>\n",
       "      <td>119 01 0 479.00</td>\n",
       "      <td>32000</td>\n",
       "      <td>25000.0</td>\n",
       "      <td>243700.0</td>\n",
       "      <td>268700.0</td>\n",
       "      <td>2145.60001</td>\n",
       "      <td>FULL BSMT</td>\n",
       "      <td>BRICK/FRAME</td>\n",
       "      <td>B</td>\n",
       "      <td>2.0</td>\n",
       "    </tr>\n",
       "    <tr>\n",
       "      <th>4</th>\n",
       "      <td>119 05 0 186.00</td>\n",
       "      <td>102000</td>\n",
       "      <td>25000.0</td>\n",
       "      <td>138100.0</td>\n",
       "      <td>164800.0</td>\n",
       "      <td>1969.00000</td>\n",
       "      <td>CRAWL</td>\n",
       "      <td>FRAME</td>\n",
       "      <td>C</td>\n",
       "      <td>1.0</td>\n",
       "    </tr>\n",
       "    <tr>\n",
       "      <th>5</th>\n",
       "      <td>119 05 0 387.00</td>\n",
       "      <td>93736</td>\n",
       "      <td>25000.0</td>\n",
       "      <td>86100.0</td>\n",
       "      <td>113300.0</td>\n",
       "      <td>1037.00000</td>\n",
       "      <td>CRAWL</td>\n",
       "      <td>FRAME</td>\n",
       "      <td>C</td>\n",
       "      <td>1.0</td>\n",
       "    </tr>\n",
       "  </tbody>\n",
       "</table>\n",
       "</div>"
      ],
      "text/plain": [
       "         Parcel ID  Sale Price  Land Value  Building Value  Total Value  \\\n",
       "1  105 11 0 080.00      191500     32000.0        134400.0     168300.0   \n",
       "2  118 03 0 130.00      202000     34000.0        157800.0     191800.0   \n",
       "3  119 01 0 479.00       32000     25000.0        243700.0     268700.0   \n",
       "4  119 05 0 186.00      102000     25000.0        138100.0     164800.0   \n",
       "5  119 05 0 387.00       93736     25000.0         86100.0     113300.0   \n",
       "\n",
       "   Finished Area Foundation Type Exterior Wall Grade  Full Bath  \n",
       "1     1149.00000         PT BSMT         BRICK  C           1.0  \n",
       "2     2090.82495            SLAB   BRICK/FRAME  C           2.0  \n",
       "3     2145.60001       FULL BSMT   BRICK/FRAME  B           2.0  \n",
       "4     1969.00000           CRAWL         FRAME  C           1.0  \n",
       "5     1037.00000           CRAWL         FRAME  C           1.0  "
      ]
     },
     "execution_count": 14,
     "metadata": {},
     "output_type": "execute_result"
    }
   ],
   "source": [
    "data.head()"
   ]
  },
  {
   "cell_type": "code",
   "execution_count": 15,
   "id": "1d684008",
   "metadata": {},
   "outputs": [
    {
     "data": {
      "image/png": "[encoded data removed]",
      "text/plain": [
       "<Figure size 432x288 with 2 Axes>"
      ]
     },
     "metadata": {
      "needs_background": "light"
     },
     "output_type": "display_data"
    }
   ],
   "source": [
    "#Visualizing correlation\n",
    "sns.heatmap(data.corr());"
   ]
  },
  {
   "cell_type": "code",
   "execution_count": 16,
   "id": "e10849bc",
   "metadata": {},
   "outputs": [
    {
     "data": {
      "text/plain": [
       "count    24013.000000\n",
       "mean      1914.972588\n",
       "std       1103.607669\n",
       "min        450.000000\n",
       "25%       1236.000000\n",
       "50%       1630.000000\n",
       "75%       2211.000000\n",
       "max      19728.249880\n",
       "Name: Finished Area, dtype: float64"
      ]
     },
     "execution_count": 16,
     "metadata": {},
     "output_type": "execute_result"
    }
   ],
   "source": [
    "#statistical analysis on Finished Area\n",
    "data.describe()[\"Finished Area\"]"
   ]
  },
  {
   "cell_type": "code",
   "execution_count": 17,
   "id": "236c8db8",
   "metadata": {},
   "outputs": [
    {
     "data": {
      "text/plain": [
       "count    2.401300e+04\n",
       "mean     6.894307e+04\n",
       "std      1.018873e+05\n",
       "min      1.000000e+02\n",
       "25%      2.190000e+04\n",
       "50%      2.990000e+04\n",
       "75%      6.030000e+04\n",
       "max      1.869000e+06\n",
       "Name: Land Value, dtype: float64"
      ]
     },
     "execution_count": 17,
     "metadata": {},
     "output_type": "execute_result"
    }
   ],
   "source": [
    "#statistical analysis on Land Value\n",
    "data.describe()[\"Land Value\"]"
   ]
  },
  {
   "cell_type": "code",
   "execution_count": 18,
   "id": "d9776df3",
   "metadata": {},
   "outputs": [
    {
     "data": {
      "image/png": "[encoded data removed]",
      "text/plain": [
       "<Figure size 432x288 with 1 Axes>"
      ]
     },
     "metadata": {
      "needs_background": "light"
     },
     "output_type": "display_data"
    }
   ],
   "source": [
    "sns.regplot(x= \"Land Value\", y=\"Sale Price\", data=data);"
   ]
  },
  {
   "cell_type": "code",
   "execution_count": 19,
   "id": "01cbc3af",
   "metadata": {},
   "outputs": [
    {
     "data": {
      "image/png": "[encoded data removed]",
      "text/plain": [
       "<Figure size 432x288 with 1 Axes>"
      ]
     },
     "metadata": {
      "needs_background": "light"
     },
     "output_type": "display_data"
    }
   ],
   "source": [
    "sns.regplot(x= \"Finished Area\", y=\"Sale Price\", data=data);"
   ]
  },
  {
   "cell_type": "code",
   "execution_count": 20,
   "id": "194d3cda",
   "metadata": {},
   "outputs": [
    {
     "name": "stdout",
     "output_type": "stream",
     "text": [
      "number of test samples: (4803, 2)\n",
      "number of training samples: (19210, 2)\n"
     ]
    }
   ],
   "source": [
    "#splitting data into test and training set, 80% of data for training and remaining 20% for test, setting random state for reproducibility\n",
    "features= [\"Finished Area\", \"Land Value\"]\n",
    "X= data[features]\n",
    "y= data[\"Sale Price\"]\n",
    "x_train, x_test, y_train, y_test = train_test_split(X, y, test_size=0.2, random_state=42)\n",
    "print(\"number of test samples:\", x_test.shape)\n",
    "print(\"number of training samples:\",x_train.shape)"
   ]
  },
  {
   "cell_type": "code",
   "execution_count": 21,
   "id": "6c777c7e",
   "metadata": {},
   "outputs": [
    {
     "data": {
      "text/plain": [
       "274656.8690265487"
      ]
     },
     "execution_count": 21,
     "metadata": {},
     "output_type": "execute_result"
    }
   ],
   "source": [
    "#calculating the mean of the training target\n",
    "y_mean= y_train.mean()\n",
    "y_mean"
   ]
  },
  {
   "cell_type": "code",
   "execution_count": 22,
   "id": "2c66921d",
   "metadata": {},
   "outputs": [],
   "source": [
    "#calculating the baseline prediction\n",
    "y_pred_baseline=[y_mean]*len(y_train)"
   ]
  },
  {
   "cell_type": "code",
   "execution_count": 23,
   "id": "4b2e089b",
   "metadata": {},
   "outputs": [
    {
     "name": "stdout",
     "output_type": "stream",
     "text": [
      "Mean Price: 274656.87\n",
      "Baseline MAE: 173142.81\n"
     ]
    }
   ],
   "source": [
    "#calculating the mean absolute error of the baseline prediction\n",
    "mae_baseline=mean_absolute_error(y_train, y_pred_baseline)\n",
    "print(\"Mean Price:\", round(y_mean,2))\n",
    "print(\"Baseline MAE:\", round(mae_baseline,2))"
   ]
  },
  {
   "cell_type": "code",
   "execution_count": 24,
   "id": "30532c9e",
   "metadata": {},
   "outputs": [],
   "source": [
    "#instantiate predictor\n",
    "model= LinearRegression()"
   ]
  },
  {
   "cell_type": "code",
   "execution_count": 25,
   "id": "c0adecfe",
   "metadata": {},
   "outputs": [
    {
     "data": {
      "text/plain": [
       "LinearRegression()"
      ]
     },
     "execution_count": 25,
     "metadata": {},
     "output_type": "execute_result"
    }
   ],
   "source": [
    "#fit predictor to training data\n",
    "model.fit(x_train,y_train)"
   ]
  },
  {
   "cell_type": "code",
   "execution_count": 26,
   "id": "019a7a91",
   "metadata": {},
   "outputs": [
    {
     "data": {
      "text/plain": [
       "array([161676.4043294 , 151036.45519346, 168771.8475214 , 125610.57790037,\n",
       "       114236.93866325])"
      ]
     },
     "execution_count": 26,
     "metadata": {},
     "output_type": "execute_result"
    }
   ],
   "source": [
    "#Generating predictions\n",
    "y_pred_training= model.predict(x_train)\n",
    "y_pred_training[:5]"
   ]
  },
  {
   "cell_type": "code",
   "execution_count": 27,
   "id": "d468ce5f",
   "metadata": {},
   "outputs": [
    {
     "name": "stdout",
     "output_type": "stream",
     "text": [
      "Training MAE: 89327.01\n"
     ]
    }
   ],
   "source": [
    "#evaluating model\n",
    "mae_training= mean_absolute_error(y_train, y_pred_training)\n",
    "print(\"Training MAE:\", round(mae_training,2))"
   ]
  },
  {
   "cell_type": "code",
   "execution_count": 28,
   "id": "dafbc2c5",
   "metadata": {},
   "outputs": [
    {
     "data": {
      "text/plain": [
       "0    103844.468180\n",
       "1    105349.489419\n",
       "2    123992.160155\n",
       "3    156514.316576\n",
       "4    482643.052818\n",
       "dtype: float64"
      ]
     },
     "execution_count": 28,
     "metadata": {},
     "output_type": "execute_result"
    }
   ],
   "source": [
    "#Test our model using the test dataset\n",
    "y_pred_test= pd.Series(model.predict(x_test))\n",
    "y_pred_test.head()"
   ]
  },
  {
   "cell_type": "code",
   "execution_count": 29,
   "id": "900b20dd",
   "metadata": {},
   "outputs": [
    {
     "name": "stdout",
     "output_type": "stream",
     "text": [
      "model intercept: -31087.62075867923\n"
     ]
    }
   ],
   "source": [
    "#Extracting intercept result\n",
    "intercept=model.intercept_\n",
    "print(\"model intercept:\", intercept)"
   ]
  }
 ],
 "metadata": {
  "kernelspec": {
   "display_name": "Python 3 (ipykernel)",
   "language": "python",
   "name": "python3"
  },
  "language_info": {
   "codemirror_mode": {
    "name": "ipython",
    "version": 3
   },
   "file_extension": ".py",
   "mimetype": "text/x-python",
   "name": "python",
   "nbconvert_exporter": "python",
   "pygments_lexer": "ipython3",
   "version": "3.9.12"
  }
 },
 "nbformat": 4,
 "nbformat_minor": 5
}
